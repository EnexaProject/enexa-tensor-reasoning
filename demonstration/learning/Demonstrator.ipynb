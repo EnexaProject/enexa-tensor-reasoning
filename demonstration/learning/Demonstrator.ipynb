{
 "cells": [
  {
   "cell_type": "markdown",
   "source": [
    "## Generate Data"
   ],
   "metadata": {
    "collapsed": false
   },
   "id": "197fac7b83ea1f2b"
  },
  {
   "cell_type": "code",
   "execution_count": 73,
   "outputs": [],
   "source": [
    "from tnreason.model import markov_logic_network as mln"
   ],
   "metadata": {
    "collapsed": false,
    "ExecuteTime": {
     "end_time": "2023-11-21T14:51:26.897814500Z",
     "start_time": "2023-11-21T14:51:26.883810600Z"
    }
   },
   "id": "f8ae3c6b40cec99e"
  },
  {
   "cell_type": "raw",
   "source": [
    "Specify the Markov Logic Network to be used in generation. The atoms will be those appearing in the expressions and the factors as specified by the entries of the Expresson Dictionary."
   ],
   "metadata": {
    "collapsed": false
   },
   "id": "379fcd064222b53b"
  },
  {
   "cell_type": "code",
   "execution_count": 74,
   "outputs": [],
   "source": [
    "example_expression_dict = {\n",
    "    \"e0\": [\"Rechnung(x)\", 1.5],\n",
    "    \"e1\": [[\"not\", \"Ausgangsrechnung(x)\"], 1.5],\n",
    "    \"e2\": [[\"Ausgangsrechnung(x)\", \"and\", \"zuMandant(x,y)\"], 2],\n",
    "    \"e3\": [[[\"not\", \"Ausgangsrechnung(y)\"], \"and\", [\"not\", \"Rechnung(x)\"]], 2],\n",
    "    \"e4\": [[\"Ausgangsrechnung(x)\", \"and\", \"Rechnung(y)\"], 2],\n",
    "    \"e5\": [\"Spezialrechnung(x)\", 1.5],\n",
    "    \"e6\": [[\"versandt(y,x)\", \"and\", \"Ausgangsrechnung(x)\"], 2],\n",
    "    \"e7\": [[\"bearbeitet(y,x)\", \"and\", \"enthaelt(x,z)\"], 1.2]\n",
    "}"
   ],
   "metadata": {
    "collapsed": false,
    "ExecuteTime": {
     "end_time": "2023-11-21T14:51:27.247855800Z",
     "start_time": "2023-11-21T14:51:27.224854400Z"
    }
   },
   "id": "90a910230fb5939b"
  },
  {
   "cell_type": "raw",
   "source": [
    "Generate the data, which is a table of truth values for each sample and atom (realized in an Boolean valued pd.DataFrame)"
   ],
   "metadata": {
    "collapsed": false
   },
   "id": "a416acbd8af7a856"
  },
  {
   "cell_type": "code",
   "execution_count": 75,
   "outputs": [
    {
     "name": "stderr",
     "output_type": "stream",
     "text": [
      "100%|██████████| 9/9 [00:00<00:00, 1124.98it/s]\n",
      "100%|██████████| 9/9 [00:00<00:00, 1124.75it/s]\n",
      "100%|██████████| 9/9 [00:00<00:00, 1285.72it/s]\n",
      "100%|██████████| 9/9 [00:00<00:00, 999.57it/s]\n",
      "100%|██████████| 9/9 [00:00<00:00, 1285.59it/s]\n",
      "100%|██████████| 9/9 [00:00<00:00, 1125.15it/s]\n",
      "100%|██████████| 9/9 [00:00<00:00, 1498.03it/s]\n",
      "100%|██████████| 9/9 [00:00<00:00, 1285.33it/s]\n",
      "100%|██████████| 9/9 [00:00<00:00, 1287.74it/s]\n",
      "100%|██████████| 9/9 [00:00<00:00, 999.81it/s]\n",
      "100%|██████████| 9/9 [00:00<00:00, 1124.81it/s]\n",
      "100%|██████████| 9/9 [00:00<00:00, 1122.54it/s]\n",
      "100%|██████████| 9/9 [00:00<00:00, 999.97it/s]\n",
      "100%|██████████| 9/9 [00:00<00:00, 1284.80it/s]\n",
      "100%|██████████| 9/9 [00:00<00:00, 999.75it/s]\n",
      "100%|██████████| 9/9 [00:00<00:00, 999.89it/s]\n",
      "100%|██████████| 9/9 [00:00<00:00, 1499.63it/s]\n",
      "100%|██████████| 9/9 [00:00<00:00, 1124.18it/s]\n",
      "100%|██████████| 9/9 [00:00<00:00, 1285.85it/s]\n",
      "100%|██████████| 9/9 [00:00<00:00, 1125.32it/s]\n",
      "100%|██████████| 9/9 [00:00<00:00, 1499.87it/s]\n",
      "100%|██████████| 9/9 [00:00<00:00, 1124.88it/s]\n",
      "100%|██████████| 9/9 [00:00<00:00, 1284.98it/s]\n",
      "100%|██████████| 9/9 [00:00<00:00, 1285.46it/s]\n",
      "100%|██████████| 9/9 [00:00<00:00, 1286.03it/s]\n",
      "100%|██████████| 9/9 [00:00<00:00, 1285.28it/s]\n",
      "100%|██████████| 9/9 [00:00<00:00, 1285.85it/s]\n",
      "100%|██████████| 9/9 [00:00<00:00, 999.91it/s]\n",
      "100%|██████████| 9/9 [00:00<00:00, 1500.17it/s]\n",
      "100%|██████████| 9/9 [00:00<00:00, 1125.38it/s]\n",
      "100%|██████████| 9/9 [00:00<00:00, 1285.37it/s]\n",
      "100%|██████████| 9/9 [00:00<00:00, 1288.26it/s]\n",
      "100%|██████████| 9/9 [00:00<00:00, 1126.32it/s]\n",
      "100%|██████████| 9/9 [00:00<00:00, 1125.18it/s]\n",
      "100%|██████████| 9/9 [00:00<00:00, 1122.54it/s]\n",
      "100%|██████████| 9/9 [00:00<00:00, 1124.21it/s]\n",
      "100%|██████████| 9/9 [00:00<00:00, 749.70it/s]\n",
      "100%|██████████| 9/9 [00:00<00:00, 1284.84it/s]\n",
      "100%|██████████| 9/9 [00:00<00:00, 1494.05it/s]\n",
      "100%|██████████| 9/9 [00:00<00:00, 1001.80it/s]\n",
      "100%|██████████| 9/9 [00:00<00:00, 1285.94it/s]\n",
      "100%|██████████| 9/9 [00:00<00:00, 1285.98it/s]\n",
      "100%|██████████| 9/9 [00:00<00:00, 600.18it/s]\n",
      "100%|██████████| 9/9 [00:00<00:00, 1286.03it/s]\n",
      "100%|██████████| 9/9 [00:00<00:00, 1000.34it/s]\n",
      "100%|██████████| 9/9 [00:00<00:00, 999.99it/s]\n",
      "100%|██████████| 9/9 [00:00<00:00, 1286.46it/s]\n",
      "100%|██████████| 9/9 [00:00<00:00, 1124.95it/s]\n",
      "100%|██████████| 9/9 [00:00<00:00, 1125.15it/s]\n",
      "100%|██████████| 9/9 [00:00<00:00, 1285.59it/s]\n",
      "100%|██████████| 9/9 [00:00<00:00, 999.97it/s]\n",
      "100%|██████████| 9/9 [00:00<00:00, 899.44it/s]\n",
      "100%|██████████| 9/9 [00:00<00:00, 1124.41it/s]\n",
      "100%|██████████| 9/9 [00:00<00:00, 1124.01it/s]\n",
      "100%|██████████| 9/9 [00:00<00:00, 1285.63it/s]\n",
      "100%|██████████| 9/9 [00:00<00:00, 1124.81it/s]\n",
      "100%|██████████| 9/9 [00:00<00:00, 1124.78it/s]\n",
      "100%|██████████| 9/9 [00:00<00:00, 1125.28it/s]\n",
      "100%|██████████| 9/9 [00:00<00:00, 1499.81it/s]\n",
      "100%|██████████| 9/9 [00:00<00:00, 1125.05it/s]\n",
      "100%|██████████| 9/9 [00:00<00:00, 1124.41it/s]\n",
      "100%|██████████| 9/9 [00:00<00:00, 1285.81it/s]\n",
      "100%|██████████| 9/9 [00:00<00:00, 1499.69it/s]\n",
      "100%|██████████| 9/9 [00:00<00:00, 1285.94it/s]\n",
      "100%|██████████| 9/9 [00:00<00:00, 1125.32it/s]\n",
      "100%|██████████| 9/9 [00:00<00:00, 1285.76it/s]\n",
      "100%|██████████| 9/9 [00:00<00:00, 899.64it/s]\n",
      "100%|██████████| 9/9 [00:00<00:00, 900.04it/s]\n",
      "100%|██████████| 9/9 [00:00<00:00, 1285.37it/s]\n",
      "100%|██████████| 9/9 [00:00<00:00, 900.15it/s]\n",
      "100%|██████████| 9/9 [00:00<00:00, 1124.91it/s]\n",
      "100%|██████████| 9/9 [00:00<00:00, 899.87it/s]\n",
      "100%|██████████| 9/9 [00:00<00:00, 1285.76it/s]\n",
      "100%|██████████| 9/9 [00:00<00:00, 1285.90it/s]\n",
      "100%|██████████| 9/9 [00:00<00:00, 1000.18it/s]\n",
      "100%|██████████| 9/9 [00:00<00:00, 1125.25it/s]\n",
      "100%|██████████| 9/9 [00:00<00:00, 1126.05it/s]\n",
      "100%|██████████| 9/9 [00:00<00:00, 1285.06it/s]\n",
      "100%|██████████| 9/9 [00:00<00:00, 1500.05it/s]\n",
      "100%|██████████| 9/9 [00:00<00:00, 1285.76it/s]\n",
      "100%|██████████| 9/9 [00:00<00:00, 1125.18it/s]\n",
      "100%|██████████| 9/9 [00:00<00:00, 1124.85it/s]\n",
      "100%|██████████| 9/9 [00:00<00:00, 1500.29it/s]\n",
      "100%|██████████| 9/9 [00:00<00:00, 1285.41it/s]\n",
      "100%|██████████| 9/9 [00:00<00:00, 1284.71it/s]\n",
      "100%|██████████| 9/9 [00:00<00:00, 1285.98it/s]\n",
      "100%|██████████| 9/9 [00:00<00:00, 1000.10it/s]\n",
      "100%|██████████| 9/9 [00:00<00:00, 1124.98it/s]\n",
      "100%|██████████| 9/9 [00:00<00:00, 1124.58it/s]\n",
      "100%|██████████| 9/9 [00:00<00:00, 1002.38it/s]\n",
      "100%|██████████| 9/9 [00:00<00:00, 1000.05it/s]\n",
      "100%|██████████| 9/9 [00:00<00:00, 1286.95it/s]\n",
      "100%|██████████| 9/9 [00:00<00:00, 1124.38it/s]\n",
      "100%|██████████| 9/9 [00:00<00:00, 1124.48it/s]\n",
      "100%|██████████| 9/9 [00:00<00:00, 1499.39it/s]\n",
      "100%|██████████| 9/9 [00:00<00:00, 1124.48it/s]\n",
      "100%|██████████| 9/9 [00:00<00:00, 1124.31it/s]\n",
      "100%|██████████| 9/9 [00:00<00:00, 1285.41it/s]\n",
      "100%|██████████| 9/9 [00:00<00:00, 1286.46it/s]\n",
      "100%|██████████| 9/9 [00:00<00:00, 999.81it/s]\n"
     ]
    },
    {
     "data": {
      "text/plain": "   Rechnung(x)  Ausgangsrechnung(x)  zuMandant(x,y)  Ausgangsrechnung(y)  \\\n0         True                 True            True                False   \n1         True                 True            True                False   \n2         True                 True            True                 True   \n3        False                 True            True                 True   \n4        False                 True            True                False   \n\n   Rechnung(y)  Spezialrechnung(x)  versandt(y,x)  bearbeitet(y,x)  \\\n0         True                True           True             True   \n1         True                True           True             True   \n2         True                True           True             True   \n3         True               False           True             True   \n4         True                True           True             True   \n\n   enthaelt(x,z)  \n0           True  \n1           True  \n2           True  \n3           True  \n4           True  ",
      "text/html": "<div>\n<style scoped>\n    .dataframe tbody tr th:only-of-type {\n        vertical-align: middle;\n    }\n\n    .dataframe tbody tr th {\n        vertical-align: top;\n    }\n\n    .dataframe thead th {\n        text-align: right;\n    }\n</style>\n<table border=\"1\" class=\"dataframe\">\n  <thead>\n    <tr style=\"text-align: right;\">\n      <th></th>\n      <th>Rechnung(x)</th>\n      <th>Ausgangsrechnung(x)</th>\n      <th>zuMandant(x,y)</th>\n      <th>Ausgangsrechnung(y)</th>\n      <th>Rechnung(y)</th>\n      <th>Spezialrechnung(x)</th>\n      <th>versandt(y,x)</th>\n      <th>bearbeitet(y,x)</th>\n      <th>enthaelt(x,z)</th>\n    </tr>\n  </thead>\n  <tbody>\n    <tr>\n      <th>0</th>\n      <td>True</td>\n      <td>True</td>\n      <td>True</td>\n      <td>False</td>\n      <td>True</td>\n      <td>True</td>\n      <td>True</td>\n      <td>True</td>\n      <td>True</td>\n    </tr>\n    <tr>\n      <th>1</th>\n      <td>True</td>\n      <td>True</td>\n      <td>True</td>\n      <td>False</td>\n      <td>True</td>\n      <td>True</td>\n      <td>True</td>\n      <td>True</td>\n      <td>True</td>\n    </tr>\n    <tr>\n      <th>2</th>\n      <td>True</td>\n      <td>True</td>\n      <td>True</td>\n      <td>True</td>\n      <td>True</td>\n      <td>True</td>\n      <td>True</td>\n      <td>True</td>\n      <td>True</td>\n    </tr>\n    <tr>\n      <th>3</th>\n      <td>False</td>\n      <td>True</td>\n      <td>True</td>\n      <td>True</td>\n      <td>True</td>\n      <td>False</td>\n      <td>True</td>\n      <td>True</td>\n      <td>True</td>\n    </tr>\n    <tr>\n      <th>4</th>\n      <td>False</td>\n      <td>True</td>\n      <td>True</td>\n      <td>False</td>\n      <td>True</td>\n      <td>True</td>\n      <td>True</td>\n      <td>True</td>\n      <td>True</td>\n    </tr>\n  </tbody>\n</table>\n</div>"
     },
     "execution_count": 75,
     "metadata": {},
     "output_type": "execute_result"
    }
   ],
   "source": [
    "generator = mln.TensorMLN(example_expression_dict)\n",
    "sampleDf = generator.generate_sampleDf(sampleNum=100).astype(\"bool\")\n",
    "sampleDf.head()"
   ],
   "metadata": {
    "collapsed": false,
    "ExecuteTime": {
     "end_time": "2023-11-21T14:51:29.271117100Z",
     "start_time": "2023-11-21T14:51:27.575899300Z"
    }
   },
   "id": "fb0cbdc8d5b31954"
  },
  {
   "cell_type": "raw",
   "source": [],
   "metadata": {
    "collapsed": false
   },
   "id": "22f18be3d57a7501"
  },
  {
   "cell_type": "markdown",
   "source": [
    "## Learn an Expression"
   ],
   "metadata": {
    "collapsed": false
   },
   "id": "a8afaabce782624d"
  },
  {
   "cell_type": "code",
   "execution_count": 76,
   "outputs": [],
   "source": [
    "from tnreason.learning import expression_learning as el\n",
    "from tnreason.logic import expression_calculus as ec"
   ],
   "metadata": {
    "collapsed": false,
    "ExecuteTime": {
     "end_time": "2023-11-21T14:51:29.271117100Z",
     "start_time": "2023-11-21T14:51:29.146101900Z"
    }
   },
   "id": "da88ed91c7133120"
  },
  {
   "cell_type": "raw",
   "source": [
    "Specify the hyptothesis (atoms in the candidatesDicts placed in the placeholders of the skeletonExpression)."
   ],
   "metadata": {
    "collapsed": false
   },
   "id": "416cc99fa1a64775"
  },
  {
   "cell_type": "code",
   "execution_count": 77,
   "outputs": [],
   "source": [
    "skeletonExpression = [\"R1(y,x)\", \"and\", \"C1(x)\"]  # ,\"and\",\"R2(x,z)\"]\n",
    "candidatesDict = {\n",
    "    \"C1(x)\": [\"Ausgangsrechnung(x)\", \"Rechnung(x)\"],\n",
    "    \"C2(y)\": [\"Ausgangsrechnung(y)\", \"Rechnung(y)\"],\n",
    "    \"R1(y,x)\": [\"versandt(y,x)\", \"bearbeitet(y,x)\"],\n",
    "    \"R2(x,z)\": [\"enthaelt(x,z)\"]\n",
    "}\n",
    "\n",
    "positiveCore = ec.evaluate_expression_on_sampleDf(sampleDf, [\"Rechnung(y)\",\"and\",\"Ausgangsrechnung(x)\"])\n",
    "negativeCore = positiveCore.negate()"
   ],
   "metadata": {
    "collapsed": false,
    "ExecuteTime": {
     "end_time": "2023-11-21T14:51:29.276115100Z",
     "start_time": "2023-11-21T14:51:29.161098800Z"
    }
   },
   "id": "344b0d4a92c27428"
  },
  {
   "cell_type": "raw",
   "source": [
    "Initialize a Learner and optimize via Alternating Least Squares. Then project onto a solution."
   ],
   "metadata": {
    "collapsed": false
   },
   "id": "4599f2005ce41eb9"
  },
  {
   "cell_type": "code",
   "execution_count": 78,
   "outputs": [
    {
     "name": "stdout",
     "output_type": "stream",
     "text": [
      "## SWEEP 0 ##\n",
      "Optimized leg R1(y,x): Residuum is 4.300479722870779\n",
      "Optimized leg C1(x): Residuum is 3.1796028415146673\n",
      "## SWEEP 1 ##\n",
      "Optimized leg R1(y,x): Residuum is 3.1757705123018836\n",
      "Optimized leg C1(x): Residuum is 3.1757542440646067\n",
      "## SWEEP 2 ##\n",
      "Optimized leg R1(y,x): Residuum is 3.1757541727436887\n",
      "Optimized leg C1(x): Residuum is 3.1757541724302825\n",
      "## SWEEP 3 ##\n",
      "Optimized leg R1(y,x): Residuum is 3.1757541724289053\n",
      "Optimized leg C1(x): Residuum is 3.1757541724288987\n",
      "## SWEEP 4 ##\n",
      "Optimized leg R1(y,x): Residuum is 3.1757541724288987\n",
      "Optimized leg C1(x): Residuum is 3.1757541724288996\n",
      "## SWEEP 5 ##\n",
      "Optimized leg R1(y,x): Residuum is 3.1757541724288987\n",
      "Optimized leg C1(x): Residuum is 3.1757541724288996\n",
      "## SWEEP 6 ##\n",
      "Optimized leg R1(y,x): Residuum is 3.1757541724288987\n",
      "Optimized leg C1(x): Residuum is 3.1757541724288987\n",
      "## SWEEP 7 ##\n",
      "Optimized leg R1(y,x): Residuum is 3.1757541724288987\n",
      "Optimized leg C1(x): Residuum is 3.1757541724288987\n",
      "## SWEEP 8 ##\n",
      "Optimized leg R1(y,x): Residuum is 3.1757541724288987\n",
      "Optimized leg C1(x): Residuum is 3.1757541724288987\n",
      "## SWEEP 9 ##\n",
      "Optimized leg R1(y,x): Residuum is 3.175754172428899\n",
      "Optimized leg C1(x): Residuum is 3.1757541724288987\n"
     ]
    }
   ],
   "source": [
    "learner = el.AtomicLearner(skeletonExpression=skeletonExpression)\n",
    "learner.generate_fixedCores_sampleDf(sampleDf, candidatesDict)\n",
    "learner.random_initialize_variableCoresDict()\n",
    "learner.generate_target_and_filterCore_from_exampleCores(positiveCore, negativeCore)\n",
    "learner.als(10)\n",
    "learner.get_solution()"
   ],
   "metadata": {
    "collapsed": false,
    "ExecuteTime": {
     "end_time": "2023-11-21T14:51:29.346123400Z",
     "start_time": "2023-11-21T14:51:29.178104700Z"
    }
   },
   "id": "c06a269c0a2eb294"
  },
  {
   "cell_type": "code",
   "execution_count": 79,
   "outputs": [
    {
     "name": "stdout",
     "output_type": "stream",
     "text": [
      "The solution is ['versandt(y,x)', 'and', 'Ausgangsrechnung(x)'].\n"
     ]
    }
   ],
   "source": [
    "print(\"The solution is {}.\".format(learner.solutionExpression))"
   ],
   "metadata": {
    "collapsed": false,
    "ExecuteTime": {
     "end_time": "2023-11-21T14:51:29.368126600Z",
     "start_time": "2023-11-21T14:51:29.207112400Z"
    }
   },
   "id": "dd9e8b7f88e0b8e0"
  },
  {
   "cell_type": "code",
   "execution_count": 83,
   "outputs": [
    {
     "data": {
      "text/plain": "<Figure size 640x480 with 1 Axes>",
      "image/png": "[encoded data removed]"
     },
     "metadata": {},
     "output_type": "display_data"
    }
   ],
   "source": [
    "from tnreason.logic import expression_visualization as ev\n",
    "ev.visualize_expression_graph(learner.solutionExpression)"
   ],
   "metadata": {
    "collapsed": false,
    "ExecuteTime": {
     "end_time": "2023-11-21T15:06:43.581348700Z",
     "start_time": "2023-11-21T15:06:43.353093600Z"
    }
   },
   "id": "e8a5a04829434d73"
  },
  {
   "cell_type": "code",
   "execution_count": null,
   "outputs": [],
   "source": [],
   "metadata": {
    "collapsed": false
   },
   "id": "2f6d7efe04db9e88"
  }
 ],
 "metadata": {
  "kernelspec": {
   "name": "new-env",
   "language": "python",
   "display_name": "new-env"
  },
  "language_info": {
   "codemirror_mode": {
    "name": "ipython",
    "version": 2
   },
   "file_extension": ".py",
   "mimetype": "text/x-python",
   "name": "python",
   "nbconvert_exporter": "python",
   "pygments_lexer": "ipython2",
   "version": "2.7.6"
  }
 },
 "nbformat": 4,
 "nbformat_minor": 5
}
